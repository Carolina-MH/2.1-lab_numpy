{
 "cells": [
  {
   "cell_type": "markdown",
   "id": "d77e0ab3",
   "metadata": {},
   "source": [
    "# 1. Import the NUMPY package under the name np."
   ]
  },
  {
   "cell_type": "code",
   "execution_count": 12,
   "id": "f8df3a88",
   "metadata": {},
   "outputs": [],
   "source": [
    "import numpy as np"
   ]
  },
  {
   "cell_type": "markdown",
   "id": "12759f39",
   "metadata": {},
   "source": [
    "# 2. Print the NUMPY version and the configuration."
   ]
  },
  {
   "cell_type": "code",
   "execution_count": 13,
   "id": "37731239",
   "metadata": {},
   "outputs": [
    {
     "data": {
      "text/plain": [
       "<function numpy.__config__.show()>"
      ]
     },
     "execution_count": 13,
     "metadata": {},
     "output_type": "execute_result"
    }
   ],
   "source": [
    "\n",
    "np.__version__\n",
    "np.show_config"
   ]
  },
  {
   "cell_type": "markdown",
   "id": "4e1bf633",
   "metadata": {},
   "source": [
    "# 3. Generate a 2x3x5 3-dimensional array with random values. Assign the array to variable \"a\". \n",
    "#Challenge: there are at least three easy ways that use numpy to generate random arrays. How many ways can you find?"
   ]
  },
  {
   "cell_type": "code",
   "execution_count": 14,
   "id": "a4ff71e6",
   "metadata": {
    "scrolled": true
   },
   "outputs": [],
   "source": [
    "a = np.random.random((2,3,5))"
   ]
  },
  {
   "cell_type": "markdown",
   "id": "29e1936a",
   "metadata": {},
   "source": [
    "# 4. Print a."
   ]
  },
  {
   "cell_type": "code",
   "execution_count": 15,
   "id": "78d0ff98",
   "metadata": {},
   "outputs": [
    {
     "data": {
      "text/plain": [
       "array([[[0.24736014, 0.05817055, 0.39014729, 0.08435554, 0.40301865],\n",
       "        [0.32199163, 0.62998089, 0.02464037, 0.26956797, 0.98085014],\n",
       "        [0.2704443 , 0.47974232, 0.03110858, 0.35056915, 0.38501023]],\n",
       "\n",
       "       [[0.5796017 , 0.73249676, 0.7939184 , 0.06302726, 0.50331414],\n",
       "        [0.30478309, 0.66832229, 0.05165797, 0.86216533, 0.26456163],\n",
       "        [0.12093544, 0.80340527, 0.12272118, 0.07665269, 0.6769143 ]]])"
      ]
     },
     "execution_count": 15,
     "metadata": {},
     "output_type": "execute_result"
    }
   ],
   "source": [
    "a"
   ]
  },
  {
   "cell_type": "markdown",
   "id": "29fbd6ea",
   "metadata": {},
   "source": [
    "# 5. Create a 5x2x3 3-dimensional array with all values equaling 1.\n",
    "#Assign the array to variable \"b\""
   ]
  },
  {
   "cell_type": "code",
   "execution_count": 16,
   "id": "f30ed1d7",
   "metadata": {},
   "outputs": [],
   "source": [
    "b= np.ones((5,2,3))"
   ]
  },
  {
   "cell_type": "markdown",
   "id": "8f205771",
   "metadata": {},
   "source": [
    "# 6. Print b."
   ]
  },
  {
   "cell_type": "code",
   "execution_count": 17,
   "id": "78a5086a",
   "metadata": {},
   "outputs": [
    {
     "data": {
      "text/plain": [
       "array([[[1., 1., 1.],\n",
       "        [1., 1., 1.]],\n",
       "\n",
       "       [[1., 1., 1.],\n",
       "        [1., 1., 1.]],\n",
       "\n",
       "       [[1., 1., 1.],\n",
       "        [1., 1., 1.]],\n",
       "\n",
       "       [[1., 1., 1.],\n",
       "        [1., 1., 1.]],\n",
       "\n",
       "       [[1., 1., 1.],\n",
       "        [1., 1., 1.]]])"
      ]
     },
     "execution_count": 17,
     "metadata": {},
     "output_type": "execute_result"
    }
   ],
   "source": [
    "b"
   ]
  },
  {
   "cell_type": "markdown",
   "id": "546fa16d",
   "metadata": {},
   "source": [
    "# 7. Do a and b have the same size? How do you prove that in Python code?"
   ]
  },
  {
   "cell_type": "code",
   "execution_count": 18,
   "id": "3f2e10f5",
   "metadata": {},
   "outputs": [
    {
     "data": {
      "text/plain": [
       "30"
      ]
     },
     "execution_count": 18,
     "metadata": {},
     "output_type": "execute_result"
    }
   ],
   "source": [
    "a.size"
   ]
  },
  {
   "cell_type": "code",
   "execution_count": 19,
   "id": "e5afdb72",
   "metadata": {},
   "outputs": [
    {
     "data": {
      "text/plain": [
       "30"
      ]
     },
     "execution_count": 19,
     "metadata": {},
     "output_type": "execute_result"
    }
   ],
   "source": [
    "b.size"
   ]
  },
  {
   "cell_type": "markdown",
   "id": "38d638fc",
   "metadata": {},
   "source": [
    "Sí, a y b tienen el mismo número de elementos."
   ]
  },
  {
   "cell_type": "markdown",
   "id": "ac324769",
   "metadata": {},
   "source": [
    "# 8. Are you able to add a and b? Why or why not?"
   ]
  },
  {
   "cell_type": "code",
   "execution_count": 66,
   "id": "64a81c69",
   "metadata": {},
   "outputs": [
    {
     "data": {
      "text/plain": [
       "array([[[0.24736014, 0.05817055, 0.39014729, 0.08435554, 0.40301865],\n",
       "        [0.32199163, 0.62998089, 0.02464037, 0.26956797, 0.98085014],\n",
       "        [0.2704443 , 0.47974232, 0.03110858, 0.35056915, 0.38501023]],\n",
       "\n",
       "       [[0.5796017 , 0.73249676, 0.7939184 , 0.06302726, 0.50331414],\n",
       "        [0.30478309, 0.66832229, 0.05165797, 0.86216533, 0.26456163],\n",
       "        [0.12093544, 0.80340527, 0.12272118, 0.07665269, 0.6769143 ]]])"
      ]
     },
     "execution_count": 66,
     "metadata": {},
     "output_type": "execute_result"
    }
   ],
   "source": [
    "a"
   ]
  },
  {
   "cell_type": "code",
   "execution_count": 67,
   "id": "bf46b305",
   "metadata": {},
   "outputs": [
    {
     "data": {
      "text/plain": [
       "array([[[1., 1., 1.],\n",
       "        [1., 1., 1.]],\n",
       "\n",
       "       [[1., 1., 1.],\n",
       "        [1., 1., 1.]],\n",
       "\n",
       "       [[1., 1., 1.],\n",
       "        [1., 1., 1.]],\n",
       "\n",
       "       [[1., 1., 1.],\n",
       "        [1., 1., 1.]],\n",
       "\n",
       "       [[1., 1., 1.],\n",
       "        [1., 1., 1.]]])"
      ]
     },
     "execution_count": 67,
     "metadata": {},
     "output_type": "execute_result"
    }
   ],
   "source": [
    "b"
   ]
  },
  {
   "cell_type": "code",
   "execution_count": 68,
   "id": "69763057",
   "metadata": {},
   "outputs": [
    {
     "ename": "ValueError",
     "evalue": "operands could not be broadcast together with shapes (2,3,5) (5,2,3) ",
     "output_type": "error",
     "traceback": [
      "\u001b[1;31m---------------------------------------------------------------------------\u001b[0m",
      "\u001b[1;31mValueError\u001b[0m                                Traceback (most recent call last)",
      "Cell \u001b[1;32mIn[68], line 1\u001b[0m\n\u001b[1;32m----> 1\u001b[0m a\u001b[38;5;241m+\u001b[39mb\n",
      "\u001b[1;31mValueError\u001b[0m: operands could not be broadcast together with shapes (2,3,5) (5,2,3) "
     ]
    }
   ],
   "source": [
    "a+b"
   ]
  },
  {
   "cell_type": "markdown",
   "id": "9e00d7a0",
   "metadata": {},
   "source": [
    "No se pueden sumar ambas matrices ya que no comparten los mismos componentes. a= 2x3x5\n",
    "b= 5x2x3"
   ]
  },
  {
   "cell_type": "markdown",
   "id": "2711b46e",
   "metadata": {},
   "source": [
    "# 9. Transpose b so that it has the same structure of a (i.e. become a 2x3x5 array). Assign the transposed array to varialbe \"c\"."
   ]
  },
  {
   "cell_type": "code",
   "execution_count": 48,
   "id": "f4f1fa33",
   "metadata": {},
   "outputs": [],
   "source": [
    "c= b.transpose((1,2,0))"
   ]
  },
  {
   "cell_type": "code",
   "execution_count": 49,
   "id": "12866a52",
   "metadata": {},
   "outputs": [
    {
     "data": {
      "text/plain": [
       "array([[[1., 1., 1., 1., 1.],\n",
       "        [1., 1., 1., 1., 1.],\n",
       "        [1., 1., 1., 1., 1.]],\n",
       "\n",
       "       [[1., 1., 1., 1., 1.],\n",
       "        [1., 1., 1., 1., 1.],\n",
       "        [1., 1., 1., 1., 1.]]])"
      ]
     },
     "execution_count": 49,
     "metadata": {},
     "output_type": "execute_result"
    }
   ],
   "source": [
    "c"
   ]
  },
  {
   "cell_type": "markdown",
   "id": "b299f52b",
   "metadata": {},
   "source": [
    "# 10. Try to add a and c. Now it should work. Assign the sum to varialbe \"d\". But why does it work now?"
   ]
  },
  {
   "cell_type": "code",
   "execution_count": 56,
   "id": "4d5fe070",
   "metadata": {},
   "outputs": [
    {
     "name": "stdout",
     "output_type": "stream",
     "text": [
      "[[[1.24736014 1.05817055 1.39014729 1.08435554 1.40301865]\n",
      "  [1.32199163 1.62998089 1.02464037 1.26956797 1.98085014]\n",
      "  [1.2704443  1.47974232 1.03110858 1.35056915 1.38501023]]\n",
      "\n",
      " [[1.5796017  1.73249676 1.7939184  1.06302726 1.50331414]\n",
      "  [1.30478309 1.66832229 1.05165797 1.86216533 1.26456163]\n",
      "  [1.12093544 1.80340527 1.12272118 1.07665269 1.6769143 ]]]\n",
      "[[[0.24736014 0.05817055 0.39014729 0.08435554 0.40301865]\n",
      "  [0.32199163 0.62998089 0.02464037 0.26956797 0.98085014]\n",
      "  [0.2704443  0.47974232 0.03110858 0.35056915 0.38501023]]\n",
      "\n",
      " [[0.5796017  0.73249676 0.7939184  0.06302726 0.50331414]\n",
      "  [0.30478309 0.66832229 0.05165797 0.86216533 0.26456163]\n",
      "  [0.12093544 0.80340527 0.12272118 0.07665269 0.6769143 ]]]\n"
     ]
    }
   ],
   "source": [
    "d = a+c\n",
    "print(d)\n",
    "print(a)"
   ]
  },
  {
   "cell_type": "markdown",
   "id": "d591f297",
   "metadata": {},
   "source": [
    "Ahora si suma la matriz a con la matriz c, debido a que las dimensiones de las mismas son iguales."
   ]
  },
  {
   "cell_type": "markdown",
   "id": "8f8655b3",
   "metadata": {},
   "source": [
    "# 11. Print a and d. Notice the difference and relation of the two array in terms of the values? Explain."
   ]
  },
  {
   "cell_type": "code",
   "execution_count": 57,
   "id": "95f46325",
   "metadata": {},
   "outputs": [
    {
     "data": {
      "text/plain": [
       "array([[[0.24736014, 0.05817055, 0.39014729, 0.08435554, 0.40301865],\n",
       "        [0.32199163, 0.62998089, 0.02464037, 0.26956797, 0.98085014],\n",
       "        [0.2704443 , 0.47974232, 0.03110858, 0.35056915, 0.38501023]],\n",
       "\n",
       "       [[0.5796017 , 0.73249676, 0.7939184 , 0.06302726, 0.50331414],\n",
       "        [0.30478309, 0.66832229, 0.05165797, 0.86216533, 0.26456163],\n",
       "        [0.12093544, 0.80340527, 0.12272118, 0.07665269, 0.6769143 ]]])"
      ]
     },
     "execution_count": 57,
     "metadata": {},
     "output_type": "execute_result"
    }
   ],
   "source": [
    "a"
   ]
  },
  {
   "cell_type": "code",
   "execution_count": 58,
   "id": "a95d745b",
   "metadata": {
    "scrolled": true
   },
   "outputs": [
    {
     "data": {
      "text/plain": [
       "array([[[1.24736014, 1.05817055, 1.39014729, 1.08435554, 1.40301865],\n",
       "        [1.32199163, 1.62998089, 1.02464037, 1.26956797, 1.98085014],\n",
       "        [1.2704443 , 1.47974232, 1.03110858, 1.35056915, 1.38501023]],\n",
       "\n",
       "       [[1.5796017 , 1.73249676, 1.7939184 , 1.06302726, 1.50331414],\n",
       "        [1.30478309, 1.66832229, 1.05165797, 1.86216533, 1.26456163],\n",
       "        [1.12093544, 1.80340527, 1.12272118, 1.07665269, 1.6769143 ]]])"
      ]
     },
     "execution_count": 58,
     "metadata": {},
     "output_type": "execute_result"
    }
   ],
   "source": [
    "d"
   ]
  },
  {
   "cell_type": "code",
   "execution_count": 59,
   "id": "cde60d56",
   "metadata": {},
   "outputs": [
    {
     "data": {
      "text/plain": [
       "False"
      ]
     },
     "execution_count": 59,
     "metadata": {},
     "output_type": "execute_result"
    }
   ],
   "source": [
    "np.array_equal(a,d)"
   ]
  },
  {
   "cell_type": "markdown",
   "id": "a2416d63",
   "metadata": {},
   "source": [
    "La diferencia es que en la matriz a todos los elementos se le suman 1."
   ]
  },
  {
   "cell_type": "markdown",
   "id": "013dc788",
   "metadata": {},
   "source": [
    "# 12. Multiply a and c. Assign the result to e."
   ]
  },
  {
   "cell_type": "code",
   "execution_count": 60,
   "id": "16352128",
   "metadata": {},
   "outputs": [
    {
     "data": {
      "text/plain": [
       "array([[[0.24736014, 0.05817055, 0.39014729, 0.08435554, 0.40301865],\n",
       "        [0.32199163, 0.62998089, 0.02464037, 0.26956797, 0.98085014],\n",
       "        [0.2704443 , 0.47974232, 0.03110858, 0.35056915, 0.38501023]],\n",
       "\n",
       "       [[0.5796017 , 0.73249676, 0.7939184 , 0.06302726, 0.50331414],\n",
       "        [0.30478309, 0.66832229, 0.05165797, 0.86216533, 0.26456163],\n",
       "        [0.12093544, 0.80340527, 0.12272118, 0.07665269, 0.6769143 ]]])"
      ]
     },
     "execution_count": 60,
     "metadata": {},
     "output_type": "execute_result"
    }
   ],
   "source": [
    "e=a*c\n",
    "e"
   ]
  },
  {
   "cell_type": "code",
   "execution_count": 61,
   "id": "6bf5eadf",
   "metadata": {
    "scrolled": true
   },
   "outputs": [
    {
     "data": {
      "text/plain": [
       "array([[[0.24736014, 0.05817055, 0.39014729, 0.08435554, 0.40301865],\n",
       "        [0.32199163, 0.62998089, 0.02464037, 0.26956797, 0.98085014],\n",
       "        [0.2704443 , 0.47974232, 0.03110858, 0.35056915, 0.38501023]],\n",
       "\n",
       "       [[0.5796017 , 0.73249676, 0.7939184 , 0.06302726, 0.50331414],\n",
       "        [0.30478309, 0.66832229, 0.05165797, 0.86216533, 0.26456163],\n",
       "        [0.12093544, 0.80340527, 0.12272118, 0.07665269, 0.6769143 ]]])"
      ]
     },
     "execution_count": 61,
     "metadata": {},
     "output_type": "execute_result"
    }
   ],
   "source": [
    "a"
   ]
  },
  {
   "cell_type": "markdown",
   "id": "7c1a472c",
   "metadata": {},
   "source": [
    "# 13. Does e equal to a? Why or why not?"
   ]
  },
  {
   "cell_type": "code",
   "execution_count": 63,
   "id": "8c825fa1",
   "metadata": {},
   "outputs": [
    {
     "data": {
      "text/plain": [
       "array([[[0.24736014, 0.05817055, 0.39014729, 0.08435554, 0.40301865],\n",
       "        [0.32199163, 0.62998089, 0.02464037, 0.26956797, 0.98085014],\n",
       "        [0.2704443 , 0.47974232, 0.03110858, 0.35056915, 0.38501023]],\n",
       "\n",
       "       [[0.5796017 , 0.73249676, 0.7939184 , 0.06302726, 0.50331414],\n",
       "        [0.30478309, 0.66832229, 0.05165797, 0.86216533, 0.26456163],\n",
       "        [0.12093544, 0.80340527, 0.12272118, 0.07665269, 0.6769143 ]]])"
      ]
     },
     "execution_count": 63,
     "metadata": {},
     "output_type": "execute_result"
    }
   ],
   "source": [
    "e"
   ]
  },
  {
   "cell_type": "code",
   "execution_count": 64,
   "id": "17f6b886",
   "metadata": {},
   "outputs": [
    {
     "data": {
      "text/plain": [
       "array([[[0.24736014, 0.05817055, 0.39014729, 0.08435554, 0.40301865],\n",
       "        [0.32199163, 0.62998089, 0.02464037, 0.26956797, 0.98085014],\n",
       "        [0.2704443 , 0.47974232, 0.03110858, 0.35056915, 0.38501023]],\n",
       "\n",
       "       [[0.5796017 , 0.73249676, 0.7939184 , 0.06302726, 0.50331414],\n",
       "        [0.30478309, 0.66832229, 0.05165797, 0.86216533, 0.26456163],\n",
       "        [0.12093544, 0.80340527, 0.12272118, 0.07665269, 0.6769143 ]]])"
      ]
     },
     "execution_count": 64,
     "metadata": {},
     "output_type": "execute_result"
    }
   ],
   "source": [
    "a"
   ]
  },
  {
   "cell_type": "code",
   "execution_count": 65,
   "id": "99dee386",
   "metadata": {},
   "outputs": [
    {
     "data": {
      "text/plain": [
       "True"
      ]
     },
     "execution_count": 65,
     "metadata": {},
     "output_type": "execute_result"
    }
   ],
   "source": [
    "np.array_equal(e,a)"
   ]
  },
  {
   "cell_type": "markdown",
   "id": "3805c8a3",
   "metadata": {},
   "source": [
    "No son iguales, porque los valores en la primera matriz son diferentes de los valores en la segunda matriz."
   ]
  },
  {
   "cell_type": "markdown",
   "id": "2b0ae229",
   "metadata": {},
   "source": [
    "# 14. Identify the max, min, and mean values in d. Assign those values to variables \"d_max\", \"d_min\", and \"d_mean\""
   ]
  },
  {
   "cell_type": "code",
   "execution_count": null,
   "id": "af5c9b12",
   "metadata": {},
   "outputs": [],
   "source": []
  },
  {
   "cell_type": "markdown",
   "id": "9271386b",
   "metadata": {},
   "source": [
    "# 15. Now we want to label the values in d. First create an empty array \"f\" with the same shape (i.e. 2x3x5) as d using `np.empty`."
   ]
  },
  {
   "cell_type": "code",
   "execution_count": null,
   "id": "22a5a4c1",
   "metadata": {},
   "outputs": [],
   "source": []
  },
  {
   "cell_type": "markdown",
   "id": "ef225f6a",
   "metadata": {},
   "source": [
    "# 16. Populate the values in f. For each value in d, if it's larger than d_min but smaller than d_mean, assign 25 to the corresponding value in f.\n",
    "If a value in d is larger than d_mean but smaller than d_max, assign 75 to the corresponding value in f.\n",
    "If a value equals to d_mean, assign 50 to the corresponding value in f.\n",
    "Assign 0 to the corresponding value(s) in f for d_min in d.\n",
    "Assign 100 to the corresponding value(s) in f for d_max in d.\n",
    "In the end, f should have only the following values: 0, 25, 50, 75, and 100.\n",
    "Note: you don't have to use Numpy in this question.\n"
   ]
  },
  {
   "cell_type": "code",
   "execution_count": null,
   "id": "9f367fdc",
   "metadata": {},
   "outputs": [],
   "source": [
    "bucle "
   ]
  },
  {
   "cell_type": "markdown",
   "id": "a9bbed09",
   "metadata": {},
   "source": [
    "# 17. Print d and f. Do you have your expected f?\n",
    "For instance, if your d is:\n",
    "array([[[1.85836099, 1.67064465, 1.62576044, 1.40243961, 1.88454931],\n",
    "        [1.75354326, 1.69403643, 1.36729252, 1.61415071, 1.12104981],\n",
    "        [1.72201435, 1.1862918 , 1.87078449, 1.7726778 , 1.88180042]],\n",
    "\n",
    "       [[1.44747908, 1.31673383, 1.02000951, 1.52218947, 1.97066381],\n",
    "        [1.79129243, 1.74983003, 1.96028037, 1.85166831, 1.65450881],\n",
    "        [1.18068344, 1.9587381 , 1.00656599, 1.93402165, 1.73514584]]])\n",
    "        Your f should be:\n",
    "array([[[ 75.,  75.,  75.,  25.,  75.],\n",
    "        [ 75.,  75.,  25.,  25.,  25.],\n",
    "        [ 75.,  25.,  75.,  75.,  75.]],\n",
    "\n",
    "       [[ 25.,  25.,  25.,  25., 100.],\n",
    "        [ 75.,  75.,  75.,  75.,  75.],\n",
    "        [ 25.,  75.,   0.,  75.,  75.]]])"
   ]
  },
  {
   "cell_type": "code",
   "execution_count": null,
   "id": "32aa9ae6",
   "metadata": {},
   "outputs": [],
   "source": []
  },
  {
   "cell_type": "markdown",
   "id": "ee3ada4f",
   "metadata": {},
   "source": [
    "# 18. Bonus question: instead of using numbers (i.e. 0, 25, 50, 75, and 100), how to use string values \n",
    "(\"A\", \"B\", \"C\", \"D\", and \"E\") to label the array elements? You are expecting the result to be:\n",
    "array([[[ 'D',  'D',  'D',  'B',  'D'],\n",
    "        [ 'D',  'D',  'B',  'B',  'B'],\n",
    "        [ 'D',  'B',  'D',  'D',  'D']],\n",
    "\n",
    "       [[ 'B',  'B',  'B',  'B',  'E'],\n",
    "        [ 'D',  'D',  'D',  'D',  'D'],\n",
    "        [ 'B',  'D',   'A',  'D', 'D']]])\n",
    "Again, you don't need Numpy in this question.\n",
    "\"\"\""
   ]
  },
  {
   "cell_type": "code",
   "execution_count": null,
   "id": "0dc8ea1b",
   "metadata": {},
   "outputs": [],
   "source": []
  }
 ],
 "metadata": {
  "kernelspec": {
   "display_name": "clase",
   "language": "python",
   "name": "clase"
  },
  "language_info": {
   "codemirror_mode": {
    "name": "ipython",
    "version": 3
   },
   "file_extension": ".py",
   "mimetype": "text/x-python",
   "name": "python",
   "nbconvert_exporter": "python",
   "pygments_lexer": "ipython3",
   "version": "3.11.4"
  }
 },
 "nbformat": 4,
 "nbformat_minor": 5
}
