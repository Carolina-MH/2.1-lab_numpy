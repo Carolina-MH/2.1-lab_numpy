{
 "cells": [
  {
   "cell_type": "markdown",
   "id": "d77e0ab3",
   "metadata": {},
   "source": [
    "# 1. Import the NUMPY package under the name np."
   ]
  },
  {
   "cell_type": "code",
   "execution_count": 2,
   "id": "f8df3a88",
   "metadata": {},
   "outputs": [],
   "source": [
    "import numpy as np"
   ]
  },
  {
   "cell_type": "markdown",
   "id": "12759f39",
   "metadata": {},
   "source": [
    "# 2. Print the NUMPY version and the configuration."
   ]
  },
  {
   "cell_type": "code",
   "execution_count": 3,
   "id": "37731239",
   "metadata": {},
   "outputs": [
    {
     "data": {
      "text/plain": [
       "<function numpy.__config__.show()>"
      ]
     },
     "execution_count": 3,
     "metadata": {},
     "output_type": "execute_result"
    }
   ],
   "source": [
    "\n",
    "np.__version__\n",
    "np.show_config"
   ]
  },
  {
   "cell_type": "markdown",
   "id": "4e1bf633",
   "metadata": {},
   "source": [
    "# 3. Generate a 2x3x5 3-dimensional array with random values. Assign the array to variable \"a\". \n",
    "#Challenge: there are at least three easy ways that use numpy to generate random arrays. How many ways can you find?"
   ]
  },
  {
   "cell_type": "code",
   "execution_count": 4,
   "id": "a4ff71e6",
   "metadata": {
    "scrolled": true
   },
   "outputs": [],
   "source": [
    "a = np.random.random((2,3,5))"
   ]
  },
  {
   "cell_type": "markdown",
   "id": "29e1936a",
   "metadata": {},
   "source": [
    "# 4. Print a."
   ]
  },
  {
   "cell_type": "code",
   "execution_count": 5,
   "id": "78d0ff98",
   "metadata": {},
   "outputs": [
    {
     "data": {
      "text/plain": [
       "array([[[0.95856453, 0.83279242, 0.38825876, 0.99306681, 0.50308898],\n",
       "        [0.2740162 , 0.21759683, 0.28133951, 0.43155065, 0.1343734 ],\n",
       "        [0.93076802, 0.97630623, 0.20507724, 0.91826942, 0.15246013]],\n",
       "\n",
       "       [[0.21601463, 0.49686188, 0.97293593, 0.11857635, 0.35672368],\n",
       "        [0.72842685, 0.17017914, 0.1119708 , 0.38457764, 0.29500654],\n",
       "        [0.10555446, 0.63113525, 0.34918829, 0.68477683, 0.88685451]]])"
      ]
     },
     "execution_count": 5,
     "metadata": {},
     "output_type": "execute_result"
    }
   ],
   "source": [
    "a"
   ]
  },
  {
   "cell_type": "markdown",
   "id": "29fbd6ea",
   "metadata": {},
   "source": [
    "# 5. Create a 5x2x3 3-dimensional array with all values equaling 1.\n",
    "#Assign the array to variable \"b\""
   ]
  },
  {
   "cell_type": "code",
   "execution_count": 6,
   "id": "f30ed1d7",
   "metadata": {},
   "outputs": [],
   "source": [
    "b= np.ones((5,2,3))"
   ]
  },
  {
   "cell_type": "markdown",
   "id": "8f205771",
   "metadata": {},
   "source": [
    "# 6. Print b."
   ]
  },
  {
   "cell_type": "code",
   "execution_count": 7,
   "id": "78a5086a",
   "metadata": {},
   "outputs": [
    {
     "data": {
      "text/plain": [
       "array([[[1., 1., 1.],\n",
       "        [1., 1., 1.]],\n",
       "\n",
       "       [[1., 1., 1.],\n",
       "        [1., 1., 1.]],\n",
       "\n",
       "       [[1., 1., 1.],\n",
       "        [1., 1., 1.]],\n",
       "\n",
       "       [[1., 1., 1.],\n",
       "        [1., 1., 1.]],\n",
       "\n",
       "       [[1., 1., 1.],\n",
       "        [1., 1., 1.]]])"
      ]
     },
     "execution_count": 7,
     "metadata": {},
     "output_type": "execute_result"
    }
   ],
   "source": [
    "b"
   ]
  },
  {
   "cell_type": "markdown",
   "id": "546fa16d",
   "metadata": {},
   "source": [
    "# 7. Do a and b have the same size? How do you prove that in Python code?"
   ]
  },
  {
   "cell_type": "code",
   "execution_count": 24,
   "id": "3f2e10f5",
   "metadata": {},
   "outputs": [
    {
     "name": "stdout",
     "output_type": "stream",
     "text": [
      "a and b have the same size\n"
     ]
    }
   ],
   "source": [
    "if a.size == b.size:\n",
    "    print('a and b have the same size')\n",
    "else:\n",
    "    print('a and b do not have the same size')"
   ]
  },
  {
   "cell_type": "markdown",
   "id": "ac324769",
   "metadata": {},
   "source": [
    "# 8. Are you able to add a and b? Why or why not?"
   ]
  },
  {
   "cell_type": "code",
   "execution_count": 26,
   "id": "64a81c69",
   "metadata": {},
   "outputs": [
    {
     "name": "stdout",
     "output_type": "stream",
     "text": [
      "a y b no tienen la misma forma y por lo tanto no se pueden sumar\n"
     ]
    }
   ],
   "source": [
    "if a.shape == b.shape:\n",
    "    print('a and b have the same shape')\n",
    "    print(a+b)\n",
    "else:\n",
    "    print('a y b no tienen la misma forma y por lo tanto no se pueden sumar')"
   ]
  },
  {
   "cell_type": "markdown",
   "id": "2711b46e",
   "metadata": {},
   "source": [
    "# 9. Transpose b so that it has the same structure of a (i.e. become a 2x3x5 array). Assign the transposed array to varialbe \"c\"."
   ]
  },
  {
   "cell_type": "code",
   "execution_count": 27,
   "id": "f4f1fa33",
   "metadata": {},
   "outputs": [],
   "source": [
    "c= b.transpose((1,2,0)) ## Utilizamos el transpose en vez del .T porque sino el orden no lo podemos imponer y luego no habrá dimensiones iguales para poder sumar"
   ]
  },
  {
   "cell_type": "code",
   "execution_count": 28,
   "id": "12866a52",
   "metadata": {},
   "outputs": [
    {
     "data": {
      "text/plain": [
       "array([[[1., 1., 1., 1., 1.],\n",
       "        [1., 1., 1., 1., 1.],\n",
       "        [1., 1., 1., 1., 1.]],\n",
       "\n",
       "       [[1., 1., 1., 1., 1.],\n",
       "        [1., 1., 1., 1., 1.],\n",
       "        [1., 1., 1., 1., 1.]]])"
      ]
     },
     "execution_count": 28,
     "metadata": {},
     "output_type": "execute_result"
    }
   ],
   "source": [
    "c"
   ]
  },
  {
   "cell_type": "markdown",
   "id": "b299f52b",
   "metadata": {},
   "source": [
    "# 10. Try to add a and c. Now it should work. Assign the sum to varialbe \"d\". But why does it work now?"
   ]
  },
  {
   "cell_type": "code",
   "execution_count": 29,
   "id": "4d5fe070",
   "metadata": {},
   "outputs": [
    {
     "name": "stdout",
     "output_type": "stream",
     "text": [
      "[[[1.95856453 1.83279242 1.38825876 1.99306681 1.50308898]\n",
      "  [1.2740162  1.21759683 1.28133951 1.43155065 1.1343734 ]\n",
      "  [1.93076802 1.97630623 1.20507724 1.91826942 1.15246013]]\n",
      "\n",
      " [[1.21601463 1.49686188 1.97293593 1.11857635 1.35672368]\n",
      "  [1.72842685 1.17017914 1.1119708  1.38457764 1.29500654]\n",
      "  [1.10555446 1.63113525 1.34918829 1.68477683 1.88685451]]]\n",
      "[[[0.95856453 0.83279242 0.38825876 0.99306681 0.50308898]\n",
      "  [0.2740162  0.21759683 0.28133951 0.43155065 0.1343734 ]\n",
      "  [0.93076802 0.97630623 0.20507724 0.91826942 0.15246013]]\n",
      "\n",
      " [[0.21601463 0.49686188 0.97293593 0.11857635 0.35672368]\n",
      "  [0.72842685 0.17017914 0.1119708  0.38457764 0.29500654]\n",
      "  [0.10555446 0.63113525 0.34918829 0.68477683 0.88685451]]]\n"
     ]
    }
   ],
   "source": [
    "d = a+c\n",
    "print(d)\n",
    "print(a)"
   ]
  },
  {
   "cell_type": "markdown",
   "id": "d591f297",
   "metadata": {},
   "source": [
    "Ahora si suma la matriz a con la matriz c, debido a que las dimensiones de las mismas son iguales."
   ]
  },
  {
   "cell_type": "markdown",
   "id": "8f8655b3",
   "metadata": {},
   "source": [
    "# 11. Print a and d. Notice the difference and relation of the two array in terms of the values? Explain."
   ]
  },
  {
   "cell_type": "code",
   "execution_count": 16,
   "id": "95f46325",
   "metadata": {},
   "outputs": [
    {
     "data": {
      "text/plain": [
       "array([[[0.95856453, 0.83279242, 0.38825876, 0.99306681, 0.50308898],\n",
       "        [0.2740162 , 0.21759683, 0.28133951, 0.43155065, 0.1343734 ],\n",
       "        [0.93076802, 0.97630623, 0.20507724, 0.91826942, 0.15246013]],\n",
       "\n",
       "       [[0.21601463, 0.49686188, 0.97293593, 0.11857635, 0.35672368],\n",
       "        [0.72842685, 0.17017914, 0.1119708 , 0.38457764, 0.29500654],\n",
       "        [0.10555446, 0.63113525, 0.34918829, 0.68477683, 0.88685451]]])"
      ]
     },
     "execution_count": 16,
     "metadata": {},
     "output_type": "execute_result"
    }
   ],
   "source": [
    "a"
   ]
  },
  {
   "cell_type": "code",
   "execution_count": 17,
   "id": "a95d745b",
   "metadata": {
    "scrolled": true
   },
   "outputs": [
    {
     "data": {
      "text/plain": [
       "array([[[1.95856453, 1.83279242, 1.38825876, 1.99306681, 1.50308898],\n",
       "        [1.2740162 , 1.21759683, 1.28133951, 1.43155065, 1.1343734 ],\n",
       "        [1.93076802, 1.97630623, 1.20507724, 1.91826942, 1.15246013]],\n",
       "\n",
       "       [[1.21601463, 1.49686188, 1.97293593, 1.11857635, 1.35672368],\n",
       "        [1.72842685, 1.17017914, 1.1119708 , 1.38457764, 1.29500654],\n",
       "        [1.10555446, 1.63113525, 1.34918829, 1.68477683, 1.88685451]]])"
      ]
     },
     "execution_count": 17,
     "metadata": {},
     "output_type": "execute_result"
    }
   ],
   "source": [
    "d"
   ]
  },
  {
   "cell_type": "code",
   "execution_count": 18,
   "id": "cde60d56",
   "metadata": {},
   "outputs": [
    {
     "data": {
      "text/plain": [
       "False"
      ]
     },
     "execution_count": 18,
     "metadata": {},
     "output_type": "execute_result"
    }
   ],
   "source": [
    "np.array_equal(a,d)"
   ]
  },
  {
   "cell_type": "markdown",
   "id": "d7453e33",
   "metadata": {},
   "source": [
    "La discrepancia entre los valores \"d\" y otros se debe a que los valores de \"d\" es el resultado de sumar uno a los valores de \"a\" y restarle los unod de la matriz \"b\"."
   ]
  },
  {
   "cell_type": "markdown",
   "id": "013dc788",
   "metadata": {},
   "source": [
    "# 12. Multiply a and c. Assign the result to e."
   ]
  },
  {
   "cell_type": "code",
   "execution_count": 19,
   "id": "16352128",
   "metadata": {},
   "outputs": [
    {
     "data": {
      "text/plain": [
       "array([[[0.95856453, 0.83279242, 0.38825876, 0.99306681, 0.50308898],\n",
       "        [0.2740162 , 0.21759683, 0.28133951, 0.43155065, 0.1343734 ],\n",
       "        [0.93076802, 0.97630623, 0.20507724, 0.91826942, 0.15246013]],\n",
       "\n",
       "       [[0.21601463, 0.49686188, 0.97293593, 0.11857635, 0.35672368],\n",
       "        [0.72842685, 0.17017914, 0.1119708 , 0.38457764, 0.29500654],\n",
       "        [0.10555446, 0.63113525, 0.34918829, 0.68477683, 0.88685451]]])"
      ]
     },
     "execution_count": 19,
     "metadata": {},
     "output_type": "execute_result"
    }
   ],
   "source": [
    "e=a*c\n",
    "e"
   ]
  },
  {
   "cell_type": "markdown",
   "id": "7c1a472c",
   "metadata": {},
   "source": [
    "# 13. Does e equal to a? Why or why not?"
   ]
  },
  {
   "cell_type": "code",
   "execution_count": 31,
   "id": "8c825fa1",
   "metadata": {},
   "outputs": [
    {
     "name": "stdout",
     "output_type": "stream",
     "text": [
      "a:\n",
      "[[[0.95856453 0.83279242 0.38825876 0.99306681 0.50308898]\n",
      "  [0.2740162  0.21759683 0.28133951 0.43155065 0.1343734 ]\n",
      "  [0.93076802 0.97630623 0.20507724 0.91826942 0.15246013]]\n",
      "\n",
      " [[0.21601463 0.49686188 0.97293593 0.11857635 0.35672368]\n",
      "  [0.72842685 0.17017914 0.1119708  0.38457764 0.29500654]\n",
      "  [0.10555446 0.63113525 0.34918829 0.68477683 0.88685451]]]\n",
      "Shape: (2, 3, 5)\n",
      "Size: 30\n",
      "e:\n",
      "[[[0.95856453 0.83279242 0.38825876 0.99306681 0.50308898]\n",
      "  [0.2740162  0.21759683 0.28133951 0.43155065 0.1343734 ]\n",
      "  [0.93076802 0.97630623 0.20507724 0.91826942 0.15246013]]\n",
      "\n",
      " [[0.21601463 0.49686188 0.97293593 0.11857635 0.35672368]\n",
      "  [0.72842685 0.17017914 0.1119708  0.38457764 0.29500654]\n",
      "  [0.10555446 0.63113525 0.34918829 0.68477683 0.88685451]]]\n",
      "Shape: (2, 3, 5)\n",
      "Size: 30\n",
      "a y e son iguales\n"
     ]
    }
   ],
   "source": [
    "print('a:')\n",
    "print(a)\n",
    "print('Shape:', a.shape)\n",
    "print('Size:',a.size)\n",
    "print('e:')\n",
    "print(e)\n",
    "print('Shape:', e.shape)\n",
    "print('Size:',e.size)\n",
    "\n",
    "if np.array_equal(a,e):\n",
    "    print('a y e son iguales')\n",
    "else:\n",
    "    print('a y e son iguales')"
   ]
  },
  {
   "cell_type": "markdown",
   "id": "2b0ae229",
   "metadata": {},
   "source": [
    "# 14. Identify the max, min, and mean values in d. Assign those values to variables \"d_max\", \"d_min\", and \"d_mean\""
   ]
  },
  {
   "cell_type": "code",
   "execution_count": 33,
   "id": "af5c9b12",
   "metadata": {},
   "outputs": [
    {
     "name": "stdout",
     "output_type": "stream",
     "text": [
      "d_max= 1.993066807962493\n"
     ]
    }
   ],
   "source": [
    "d_max = d.max()\n",
    "print('d_max=', d_max)"
   ]
  },
  {
   "cell_type": "code",
   "execution_count": 34,
   "id": "f529d392",
   "metadata": {},
   "outputs": [
    {
     "name": "stdout",
     "output_type": "stream",
     "text": [
      "d_min= 1.1055544591651145\n"
     ]
    }
   ],
   "source": [
    "d_min = d.min()\n",
    "print('d_min=', d_min)"
   ]
  },
  {
   "cell_type": "code",
   "execution_count": 35,
   "id": "979dbbc0",
   "metadata": {},
   "outputs": [
    {
     "name": "stdout",
     "output_type": "stream",
     "text": [
      "d_mean= 1.49021039728475\n"
     ]
    }
   ],
   "source": [
    "d_mean =d.mean()\n",
    "print('d_mean=', d_mean)"
   ]
  },
  {
   "cell_type": "markdown",
   "id": "9271386b",
   "metadata": {},
   "source": [
    "# 15. Now we want to label the values in d. First create an empty array \"f\" with the same shape (i.e. 2x3x5) as d using `np.empty`."
   ]
  },
  {
   "cell_type": "code",
   "execution_count": 36,
   "id": "22a5a4c1",
   "metadata": {},
   "outputs": [
    {
     "data": {
      "text/plain": [
       "array([[[0, 0, 0, 0, 0],\n",
       "        [0, 0, 0, 0, 0],\n",
       "        [0, 0, 0, 0, 0]],\n",
       "\n",
       "       [[0, 0, 0, 0, 0],\n",
       "        [0, 0, 0, 0, 0],\n",
       "        [0, 0, 0, 0, 0]]])"
      ]
     },
     "execution_count": 36,
     "metadata": {},
     "output_type": "execute_result"
    }
   ],
   "source": [
    "f = np.zeros_like(d, dtype=int)\n",
    "f"
   ]
  },
  {
   "cell_type": "markdown",
   "id": "ef225f6a",
   "metadata": {},
   "source": [
    "# 16. Populate the values in f. For each value in d, if it's larger than d_min but smaller than d_mean, assign 25 to the corresponding value in f.\n",
    "If a value in d is larger than d_mean but smaller than d_max, assign 75 to the corresponding value in f.\n",
    "If a value equals to d_mean, assign 50 to the corresponding value in f.\n",
    "Assign 0 to the corresponding value(s) in f for d_min in d.\n",
    "Assign 100 to the corresponding value(s) in f for d_max in d.\n",
    "In the end, f should have only the following values: 0, 25, 50, 75, and 100.\n",
    "Note: you don't have to use Numpy in this question.\n"
   ]
  },
  {
   "cell_type": "code",
   "execution_count": 46,
   "id": "9f367fdc",
   "metadata": {},
   "outputs": [
    {
     "name": "stdout",
     "output_type": "stream",
     "text": [
      "f: [0, 25, 50, 75, 100]\n",
      "d: [10, 20, 30, 40, 50]\n"
     ]
    }
   ],
   "source": [
    "d = [10, 20, 30, 40, 50]\n",
    "f = [0] * len(d)\n",
    "d_min = 10\n",
    "d_mean = 30\n",
    "d_max = 50\n",
    "\n",
    "for i in range(len(d)):\n",
    "    if d[i] > d_min and d[i] < d_mean:\n",
    "        f[i] = 25\n",
    "    elif d[i] > d_mean and d[i] < d_max:\n",
    "        f[i] = 75\n",
    "    elif d[i] == d_mean:\n",
    "        f[i] = 50\n",
    "    elif d[i] == d_min:\n",
    "        f[i] = 0\n",
    "    elif d[i] == d_max:\n",
    "        f[i] = 100\n",
    "\n",
    "print(\"f:\", f)\n",
    "print(\"d:\", d)\n"
   ]
  },
  {
   "cell_type": "markdown",
   "id": "a9bbed09",
   "metadata": {},
   "source": [
    "# 17. Print d and f. Do you have your expected f?\n",
    "For instance, if your d is:\n",
    "array([[[1.85836099, 1.67064465, 1.62576044, 1.40243961, 1.88454931],\n",
    "        [1.75354326, 1.69403643, 1.36729252, 1.61415071, 1.12104981],\n",
    "        [1.72201435, 1.1862918 , 1.87078449, 1.7726778 , 1.88180042]],\n",
    "\n",
    "       [[1.44747908, 1.31673383, 1.02000951, 1.52218947, 1.97066381],\n",
    "        [1.79129243, 1.74983003, 1.96028037, 1.85166831, 1.65450881],\n",
    "        [1.18068344, 1.9587381 , 1.00656599, 1.93402165, 1.73514584]]])\n",
    "        Your f should be:\n",
    "array([[[ 75.,  75.,  75.,  25.,  75.],\n",
    "        [ 75.,  75.,  25.,  25.,  25.],\n",
    "        [ 75.,  25.,  75.,  75.,  75.]],\n",
    "\n",
    "       [[ 25.,  25.,  25.,  25., 100.],\n",
    "        [ 75.,  75.,  75.,  75.,  75.],\n",
    "        [ 25.,  75.,   0.,  75.,  75.]]])"
   ]
  },
  {
   "cell_type": "code",
   "execution_count": 49,
   "id": "ab023901",
   "metadata": {},
   "outputs": [
    {
     "name": "stdout",
     "output_type": "stream",
     "text": [
      "d:\n",
      "[[[1.85836099 1.67064465 1.62576044 1.40243961 1.88454931]\n",
      "  [1.75354326 1.69403643 1.36729252 1.61415071 1.12104981]\n",
      "  [1.72201435 1.1862918  1.87078449 1.7726778  1.88180042]]\n",
      "\n",
      " [[1.44747908 1.31673383 1.02000951 1.52218947 1.97066381]\n",
      "  [1.79129243 1.74983003 1.96028037 1.85166831 1.65450881]\n",
      "  [1.18068344 1.9587381  1.00656599 1.93402165 1.73514584]]]\n",
      "f:\n",
      "[[[75. 75. 75. 25. 75.]\n",
      "  [75. 75. 25. 75.  0.]\n",
      "  [75.  0. 75. 75. 75.]]\n",
      "\n",
      " [[25. 25.  0. 25.  0.]\n",
      "  [75. 75.  0. 75. 75.]\n",
      "  [ 0.  0.  0.  0. 75.]]]\n"
     ]
    }
   ],
   "source": [
    "import numpy as np\n",
    "\n",
    "# Define tu array \"d\"\n",
    "d = np.array([[[1.85836099, 1.67064465, 1.62576044, 1.40243961, 1.88454931],\n",
    "              [1.75354326, 1.69403643, 1.36729252, 1.61415071, 1.12104981],\n",
    "              [1.72201435, 1.1862918, 1.87078449, 1.7726778, 1.88180042]],\n",
    "             [[1.44747908, 1.31673383, 1.02000951, 1.52218947, 1.97066381],\n",
    "              [1.79129243, 1.74983003, 1.96028037, 1.85166831, 1.65450881],\n",
    "              [1.18068344, 1.9587381, 1.00656599, 1.93402165, 1.73514584]]])\n",
    "\n",
    "f = np.zeros_like(d)\n",
    "\n",
    "\n",
    "d_min = 1.3\n",
    "d_mean = 1.6\n",
    "d_max = 1.9\n",
    "\n",
    "\n",
    "f[(d > d_min) & (d < d_mean)] = 25\n",
    "f[(d > d_mean) & (d < d_max)] = 75\n",
    "f[d == d_mean] = 50\n",
    "f[d == d_min] = 0\n",
    "f[d == d_max] = 100\n",
    "\n",
    "print(\"d:\")\n",
    "print(d)\n",
    "print(\"f:\")\n",
    "print(f)\n"
   ]
  },
  {
   "cell_type": "markdown",
   "id": "ee3ada4f",
   "metadata": {},
   "source": [
    "# 18. Bonus question: instead of using numbers (i.e. 0, 25, 50, 75, and 100), how to use string values \n",
    "(\"A\", \"B\", \"C\", \"D\", and \"E\") to label the array elements? You are expecting the result to be:\n",
    "array([[[ 'D',  'D',  'D',  'B',  'D'],\n",
    "        [ 'D',  'D',  'B',  'B',  'B'],\n",
    "        [ 'D',  'B',  'D',  'D',  'D']],\n",
    "\n",
    "       [[ 'B',  'B',  'B',  'B',  'E'],\n",
    "        [ 'D',  'D',  'D',  'D',  'D'],\n",
    "        [ 'B',  'D',   'A',  'D', 'D']]])\n",
    "Again, you don't need Numpy in this question.\n",
    "\"\"\""
   ]
  },
  {
   "cell_type": "code",
   "execution_count": null,
   "id": "0dc8ea1b",
   "metadata": {},
   "outputs": [],
   "source": []
  }
 ],
 "metadata": {
  "kernelspec": {
   "display_name": "clase",
   "language": "python",
   "name": "clase"
  },
  "language_info": {
   "codemirror_mode": {
    "name": "ipython",
    "version": 3
   },
   "file_extension": ".py",
   "mimetype": "text/x-python",
   "name": "python",
   "nbconvert_exporter": "python",
   "pygments_lexer": "ipython3",
   "version": "3.11.4"
  }
 },
 "nbformat": 4,
 "nbformat_minor": 5
}
